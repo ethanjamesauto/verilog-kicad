{
 "cells": [
  {
   "cell_type": "markdown",
   "metadata": {},
   "source": [
    "## Parse Yosys JSON netlist"
   ]
  },
  {
   "cell_type": "code",
   "execution_count": 255,
   "metadata": {},
   "outputs": [],
   "source": [
    "import json"
   ]
  },
  {
   "cell_type": "code",
   "execution_count": 256,
   "metadata": {},
   "outputs": [],
   "source": [
    "# generate pinouts\n",
    "import glob\n",
    "import os\n",
    "paths = glob.glob('../74xx/**/**.dig')\n",
    "paths\n",
    "\n",
    "import xml.etree.ElementTree as ET\n",
    "\n",
    "pinouts = {}\n",
    "sizes = {}\n",
    "for path in paths:\n",
    "    chip_name = os.path.basename(path)\n",
    "    chip_name = chip_name[:chip_name.find('.dig')]\n",
    "    p = ET.parse(path).getroot()\n",
    "    pinout = {}\n",
    "    size = 0\n",
    "    visualElements = None # will contain all pins\n",
    "    for child in p:\n",
    "        if child.tag == 'visualElements':\n",
    "            visualElements = child\n",
    "            break\n",
    "\n",
    "    for ve_list in visualElements:\n",
    "        valid = False\n",
    "        pin_name = None\n",
    "        pin_num = None\n",
    "        for ve_list_item in ve_list:\n",
    "            if ve_list_item.tag == 'elementName':\n",
    "                t = ve_list_item.text\n",
    "                if t == 'In' or t == 'Out':\n",
    "                    valid = True\n",
    "            if ve_list_item.tag == 'elementAttributes':\n",
    "                for a in ve_list_item:\n",
    "                    check = False\n",
    "                    label = None\n",
    "                    for b in a:\n",
    "                        if b.tag == 'string':\n",
    "                            if not b.text == 'Label':\n",
    "                                label = b.text\n",
    "                            else:\n",
    "                                check = True\n",
    "                    if check:\n",
    "                        pin_name = label\n",
    "\n",
    "                for a in ve_list_item:\n",
    "                    check1 = False\n",
    "                    num = None\n",
    "                    for b in a:\n",
    "                        if b.tag == 'string':\n",
    "                            if not b.text == 'pinNumber':\n",
    "                                num = b.text\n",
    "                            else:\n",
    "                                check1 = True\n",
    "                    if check1:\n",
    "                        pinout[pin_name] = num\n",
    "                        if int(num) > size:\n",
    "                            size = int(num)\n",
    "    sizes[chip_name] = size\n",
    "    pinouts[chip_name] = pinout\n",
    "    # print(chip_name, size, pinout, sep='    \\t')"
   ]
  },
  {
   "cell_type": "code",
   "execution_count": 262,
   "metadata": {},
   "outputs": [
    {
     "name": "stdout",
     "output_type": "stream",
     "text": [
      "Ports: {'clk': {'direction': 'input', 'bits': [2]}, '~rst': {'direction': 'input', 'bits': [3]}, '~int': {'direction': 'input', 'bits': [4]}, 'VCC_5V': {'direction': 'input', 'bits': [5]}, 'GND': {'direction': 'input', 'bits': [6]}, 'VCC_3V3': {'direction': 'input', 'bits': [7]}, '~we': {'direction': 'input', 'bits': [8]}, '~oe': {'direction': 'input', 'bits': [9]}, 'addr': {'direction': 'input', 'bits': [10, 11, 12, 13, 14, 15, 16, 17, 18, 19, 20, 21, 22, 23, 24, 25]}, 'aux-bus': {'direction': 'input', 'bits': [26, 27, 28, 29, 30, 31, 32, 33]}, 'data': {'direction': 'output', 'bits': [34, 35, 36, 37, 34, 35, 36, 37]}}\n",
      "\n",
      "Error: \\74AC04_6x1NOT is not a 74-series IC! Skipping logic implementation\n",
      "\n",
      "7404:\n",
      "\t {'\\\\1A': [10], '\\\\1Y': [39], '\\\\2A': [11], '\\\\2Y': [40], '\\\\3A': [12], '\\\\3Y': [41], '\\\\4A': [13], '\\\\4Y': [42], '\\\\5A': ['0'], '\\\\6A': ['0'], 'GND': ['0'], 'VCC': ['1']}\n",
      "\t {'1A': '1', '1Y': '2', '2A': '3', '2Y': '4', '3A': '5', '3Y': '6', '4A': '9', '4Y': '8', '5A': '11', '5Y': '10', '6A': '13', '6Y': '12', 'VCC': '14', 'GND': '7'}\n",
      "74161:\n",
      "\t {'A': [39], 'B': [40], 'C': [41], 'CLK': [38], 'D': [42], 'ENP': ['1'], 'ENT': ['1'], 'GND': ['0'], 'QA': [34], 'QB': [35], 'QC': [36], 'QD': [37], 'RCO': [43], 'VCC': ['1'], '~CLR': [3], '~LD': [8]}\n",
      "\t {'~LD': '9', '~CLR': '1', 'CLK': '2', 'RCO': '15', 'ENT': '10', 'ENP': '7', 'A': '3', 'B': '4', 'C': '5', 'D': '6', 'QA': '14', 'QB': '13', 'QC': '12', 'QD': '11', 'VCC': '16', 'GND': '8'}\n"
     ]
    }
   ],
   "source": [
    "with open('../out.json') as fp:\n",
    "    js = json.load(fp)\n",
    "\n",
    "modules = js['modules']\n",
    "\n",
    "top = modules['dumb_op_card']\n",
    "\n",
    "# The card IO wires\n",
    "print('Ports:', top['ports'])\n",
    "print()\n",
    "\n",
    "# The card chips\n",
    "for c in top['cells'].keys():\n",
    "    type = top['cells'][c]['type']\n",
    "    if not type.startswith('\\\\74') or type.startswith('\\\\74AC'):\n",
    "        print('Error: ' + type + ' is not a 74-series IC! Skipping logic implementation\\n')\n",
    "        continue\n",
    "\n",
    "    type = type.replace('\\\\', '') # remove backslashes\n",
    "\n",
    "    wires = top['cells'][c]['connections']\n",
    "    print(type, end=':\\n')\n",
    "    print('\\t', wires)\n",
    "    print('\\t', pinouts[type])\n"
   ]
  },
  {
   "cell_type": "code",
   "execution_count": 258,
   "metadata": {},
   "outputs": [],
   "source": [
    "def elaborate(top):\n",
    "    cells = top['cells']\n",
    "    for key in cells.keys():\n",
    "        cell = cells[key]\n",
    "        type = cell['type']\n",
    "\n",
    "        # see if the module is a 74-series chip. If we did, stop (we don't care what's inside the chip/how it's modeled)\n",
    "        if type.startswith('\\\\74'):\n",
    "            print(type, cell)\n",
    "\n",
    "        # Otherwise, we need to see if there are 74-series chips inside the module\n",
    "        else:\n",
    "            mod = modules[type]\n",
    "            if 'cells' in mod.keys():\n",
    "                elaborate(modules[type])"
   ]
  }
 ],
 "metadata": {
  "kernelspec": {
   "display_name": "Python 3",
   "language": "python",
   "name": "python3"
  },
  "language_info": {
   "codemirror_mode": {
    "name": "ipython",
    "version": 3
   },
   "file_extension": ".py",
   "mimetype": "text/x-python",
   "name": "python",
   "nbconvert_exporter": "python",
   "pygments_lexer": "ipython3",
   "version": "3.10.12"
  }
 },
 "nbformat": 4,
 "nbformat_minor": 2
}
