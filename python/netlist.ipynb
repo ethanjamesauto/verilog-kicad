{
 "cells": [
  {
   "cell_type": "markdown",
   "metadata": {},
   "source": [
    "## Parse Yosys JSON netlist"
   ]
  },
  {
   "cell_type": "code",
   "execution_count": 22,
   "metadata": {},
   "outputs": [],
   "source": [
    "import json"
   ]
  },
  {
   "cell_type": "code",
   "execution_count": 23,
   "metadata": {},
   "outputs": [
    {
     "name": "stdout",
     "output_type": "stream",
     "text": [
      "$abc$505$auto$blifparse.cc:396:parse_blif$506\t{'hide_name': 1, 'type': '\\\\74AC04_6x1NOT', 'parameters': {}, 'attributes': {}, 'connections': {'A': [13], 'Y': [26]}}\n",
      "$abc$505$auto$blifparse.cc:396:parse_blif$507\t{'hide_name': 1, 'type': '\\\\74AC04_6x1NOT', 'parameters': {}, 'attributes': {}, 'connections': {'A': [5], 'Y': [27]}}\n",
      "$abc$505$auto$blifparse.cc:396:parse_blif$508\t{'hide_name': 1, 'type': '\\\\74AC04_6x1NOT', 'parameters': {}, 'attributes': {}, 'connections': {'A': [15], 'Y': [28]}}\n",
      "$abc$505$auto$blifparse.cc:396:parse_blif$509\t{'hide_name': 1, 'type': '\\\\74AC04_6x1NOT', 'parameters': {}, 'attributes': {}, 'connections': {'A': [7], 'Y': [29]}}\n",
      "$abc$505$auto$blifparse.cc:396:parse_blif$510\t{'hide_name': 1, 'type': '\\\\74AC00_4x1NAND2', 'parameters': {}, 'attributes': {}, 'connections': {'A': [10], 'B': [2], 'Y': [30]}}\n",
      "$abc$505$auto$blifparse.cc:396:parse_blif$511\t{'hide_name': 1, 'type': '\\\\74AC04_6x1NOT', 'parameters': {}, 'attributes': {}, 'connections': {'A': [30], 'Y': [31]}}\n",
      "$abc$505$auto$blifparse.cc:396:parse_blif$512\t{'hide_name': 1, 'type': '\\\\74AC86_4x1XOR2', 'parameters': {}, 'attributes': {}, 'connections': {'A': [10], 'B': [2], 'Y': [18]}}\n",
      "$abc$505$auto$blifparse.cc:396:parse_blif$513\t{'hide_name': 1, 'type': '\\\\74AC00_4x1NAND2', 'parameters': {}, 'attributes': {}, 'connections': {'A': [11], 'B': [3], 'Y': [32]}}\n",
      "$abc$505$auto$blifparse.cc:396:parse_blif$514\t{'hide_name': 1, 'type': '\\\\74AC86_4x1XOR2', 'parameters': {}, 'attributes': {}, 'connections': {'A': [11], 'B': [3], 'Y': [33]}}\n",
      "$abc$505$auto$blifparse.cc:396:parse_blif$515\t{'hide_name': 1, 'type': '\\\\74AC10_3x1NAND3', 'parameters': {}, 'attributes': {}, 'connections': {'A': [10], 'B': [2], 'C': [33], 'Y': [34]}}\n",
      "$abc$505$auto$blifparse.cc:396:parse_blif$516\t{'hide_name': 1, 'type': '\\\\74AC86_4x1XOR2', 'parameters': {}, 'attributes': {}, 'connections': {'A': [31], 'B': [33], 'Y': [19]}}\n",
      "$abc$505$auto$blifparse.cc:396:parse_blif$517\t{'hide_name': 1, 'type': '\\\\74AC00_4x1NAND2', 'parameters': {}, 'attributes': {}, 'connections': {'A': [32], 'B': [34], 'Y': [35]}}\n",
      "$abc$505$auto$blifparse.cc:396:parse_blif$518\t{'hide_name': 1, 'type': '\\\\74AC00_4x1NAND2', 'parameters': {}, 'attributes': {}, 'connections': {'A': [12], 'B': [4], 'Y': [36]}}\n",
      "$abc$505$auto$blifparse.cc:396:parse_blif$519\t{'hide_name': 1, 'type': '\\\\74AC86_4x1XOR2', 'parameters': {}, 'attributes': {}, 'connections': {'A': [12], 'B': [4], 'Y': [37]}}\n",
      "$abc$505$auto$blifparse.cc:396:parse_blif$520\t{'hide_name': 1, 'type': '\\\\74AC00_4x1NAND2', 'parameters': {}, 'attributes': {}, 'connections': {'A': [35], 'B': [37], 'Y': [38]}}\n",
      "$abc$505$auto$blifparse.cc:396:parse_blif$521\t{'hide_name': 1, 'type': '\\\\74AC86_4x1XOR2', 'parameters': {}, 'attributes': {}, 'connections': {'A': [35], 'B': [37], 'Y': [20]}}\n",
      "$abc$505$auto$blifparse.cc:396:parse_blif$522\t{'hide_name': 1, 'type': '\\\\74AC00_4x1NAND2', 'parameters': {}, 'attributes': {}, 'connections': {'A': [36], 'B': [38], 'Y': [39]}}\n",
      "$abc$505$auto$blifparse.cc:396:parse_blif$523\t{'hide_name': 1, 'type': '\\\\74AC00_4x1NAND2', 'parameters': {}, 'attributes': {}, 'connections': {'A': [13], 'B': [5], 'Y': [40]}}\n",
      "$abc$505$auto$blifparse.cc:396:parse_blif$524\t{'hide_name': 1, 'type': '\\\\74AC00_4x1NAND2', 'parameters': {}, 'attributes': {}, 'connections': {'A': [26], 'B': [27], 'Y': [41]}}\n",
      "$abc$505$auto$blifparse.cc:396:parse_blif$525\t{'hide_name': 1, 'type': '\\\\74AC86_4x1XOR2', 'parameters': {}, 'attributes': {}, 'connections': {'A': [13], 'B': [5], 'Y': [42]}}\n",
      "$abc$505$auto$blifparse.cc:396:parse_blif$526\t{'hide_name': 1, 'type': '\\\\74AC86_4x1XOR2', 'parameters': {}, 'attributes': {}, 'connections': {'A': [39], 'B': [42], 'Y': [21]}}\n",
      "$abc$505$auto$blifparse.cc:396:parse_blif$527\t{'hide_name': 1, 'type': '\\\\74AC00_4x1NAND2', 'parameters': {}, 'attributes': {}, 'connections': {'A': [14], 'B': [6], 'Y': [43]}}\n",
      "$abc$505$auto$blifparse.cc:396:parse_blif$528\t{'hide_name': 1, 'type': '\\\\74AC86_4x1XOR2', 'parameters': {}, 'attributes': {}, 'connections': {'A': [14], 'B': [6], 'Y': [44]}}\n",
      "$abc$505$auto$blifparse.cc:396:parse_blif$529\t{'hide_name': 1, 'type': '\\\\74AC00_4x1NAND2', 'parameters': {}, 'attributes': {}, 'connections': {'A': [39], 'B': [41], 'Y': [45]}}\n",
      "$abc$505$auto$blifparse.cc:396:parse_blif$530\t{'hide_name': 1, 'type': '\\\\74AC10_3x1NAND3', 'parameters': {}, 'attributes': {}, 'connections': {'A': [36], 'B': [38], 'C': [40], 'Y': [46]}}\n",
      "$abc$505$auto$blifparse.cc:396:parse_blif$531\t{'hide_name': 1, 'type': '\\\\74AC00_4x1NAND2', 'parameters': {}, 'attributes': {}, 'connections': {'A': [40], 'B': [45], 'Y': [47]}}\n",
      "$abc$505$auto$blifparse.cc:396:parse_blif$532\t{'hide_name': 1, 'type': '\\\\74AC10_3x1NAND3', 'parameters': {}, 'attributes': {}, 'connections': {'A': [41], 'B': [44], 'C': [46], 'Y': [48]}}\n",
      "$abc$505$auto$blifparse.cc:396:parse_blif$533\t{'hide_name': 1, 'type': '\\\\74AC86_4x1XOR2', 'parameters': {}, 'attributes': {}, 'connections': {'A': [44], 'B': [47], 'Y': [22]}}\n",
      "$abc$505$auto$blifparse.cc:396:parse_blif$534\t{'hide_name': 1, 'type': '\\\\74AC00_4x1NAND2', 'parameters': {}, 'attributes': {}, 'connections': {'A': [43], 'B': [48], 'Y': [49]}}\n",
      "$abc$505$auto$blifparse.cc:396:parse_blif$535\t{'hide_name': 1, 'type': '\\\\74AC00_4x1NAND2', 'parameters': {}, 'attributes': {}, 'connections': {'A': [15], 'B': [7], 'Y': [50]}}\n",
      "$abc$505$auto$blifparse.cc:396:parse_blif$536\t{'hide_name': 1, 'type': '\\\\74AC00_4x1NAND2', 'parameters': {}, 'attributes': {}, 'connections': {'A': [28], 'B': [29], 'Y': [51]}}\n",
      "$abc$505$auto$blifparse.cc:396:parse_blif$537\t{'hide_name': 1, 'type': '\\\\74AC86_4x1XOR2', 'parameters': {}, 'attributes': {}, 'connections': {'A': [15], 'B': [7], 'Y': [52]}}\n",
      "$abc$505$auto$blifparse.cc:396:parse_blif$538\t{'hide_name': 1, 'type': '\\\\74AC86_4x1XOR2', 'parameters': {}, 'attributes': {}, 'connections': {'A': [49], 'B': [52], 'Y': [23]}}\n",
      "$abc$505$auto$blifparse.cc:396:parse_blif$539\t{'hide_name': 1, 'type': '\\\\74AC00_4x1NAND2', 'parameters': {}, 'attributes': {}, 'connections': {'A': [16], 'B': [8], 'Y': [53]}}\n",
      "$abc$505$auto$blifparse.cc:396:parse_blif$540\t{'hide_name': 1, 'type': '\\\\74AC86_4x1XOR2', 'parameters': {}, 'attributes': {}, 'connections': {'A': [16], 'B': [8], 'Y': [54]}}\n",
      "$abc$505$auto$blifparse.cc:396:parse_blif$541\t{'hide_name': 1, 'type': '\\\\74AC00_4x1NAND2', 'parameters': {}, 'attributes': {}, 'connections': {'A': [49], 'B': [51], 'Y': [55]}}\n",
      "$abc$505$auto$blifparse.cc:396:parse_blif$542\t{'hide_name': 1, 'type': '\\\\74AC10_3x1NAND3', 'parameters': {}, 'attributes': {}, 'connections': {'A': [43], 'B': [48], 'C': [50], 'Y': [56]}}\n",
      "$abc$505$auto$blifparse.cc:396:parse_blif$543\t{'hide_name': 1, 'type': '\\\\74AC00_4x1NAND2', 'parameters': {}, 'attributes': {}, 'connections': {'A': [50], 'B': [55], 'Y': [57]}}\n",
      "$abc$505$auto$blifparse.cc:396:parse_blif$544\t{'hide_name': 1, 'type': '\\\\74AC10_3x1NAND3', 'parameters': {}, 'attributes': {}, 'connections': {'A': [51], 'B': [54], 'C': [56], 'Y': [58]}}\n",
      "$abc$505$auto$blifparse.cc:396:parse_blif$545\t{'hide_name': 1, 'type': '\\\\74AC86_4x1XOR2', 'parameters': {}, 'attributes': {}, 'connections': {'A': [54], 'B': [57], 'Y': [24]}}\n",
      "$abc$505$auto$blifparse.cc:396:parse_blif$546\t{'hide_name': 1, 'type': '\\\\74AC00_4x1NAND2', 'parameters': {}, 'attributes': {}, 'connections': {'A': [53], 'B': [58], 'Y': [59]}}\n",
      "$abc$505$auto$blifparse.cc:396:parse_blif$547\t{'hide_name': 1, 'type': '\\\\74AC86_4x1XOR2', 'parameters': {}, 'attributes': {}, 'connections': {'A': [17], 'B': [9], 'Y': [60]}}\n",
      "$abc$505$auto$blifparse.cc:396:parse_blif$548\t{'hide_name': 1, 'type': '\\\\74AC86_4x1XOR2', 'parameters': {}, 'attributes': {}, 'connections': {'A': [59], 'B': [60], 'Y': [25]}}\n"
     ]
    }
   ],
   "source": [
    "with open('../out.json') as fp:\n",
    "    js = json.load(fp)\n",
    "\n",
    "cells = js['modules']['test']['cells']\n",
    "\n",
    "for key in cells.keys():\n",
    "    cell = cells[key]\n",
    "    print(key, cell, sep='\\t')"
   ]
  }
 ],
 "metadata": {
  "kernelspec": {
   "display_name": "Python 3",
   "language": "python",
   "name": "python3"
  },
  "language_info": {
   "codemirror_mode": {
    "name": "ipython",
    "version": 3
   },
   "file_extension": ".py",
   "mimetype": "text/x-python",
   "name": "python",
   "nbconvert_exporter": "python",
   "pygments_lexer": "ipython3",
   "version": "3.10.12"
  }
 },
 "nbformat": 4,
 "nbformat_minor": 2
}
