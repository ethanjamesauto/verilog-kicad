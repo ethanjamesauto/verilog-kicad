{
 "cells": [
  {
   "cell_type": "markdown",
   "metadata": {},
   "source": [
    "## Parse Yosys JSON netlist"
   ]
  },
  {
   "cell_type": "code",
   "execution_count": 31,
   "metadata": {},
   "outputs": [],
   "source": [
    "import json"
   ]
  },
  {
   "cell_type": "code",
   "execution_count": 35,
   "metadata": {},
   "outputs": [
    {
     "name": "stdout",
     "output_type": "stream",
     "text": [
      "\\7404 {'hide_name': 0, 'type': '\\\\7404', 'parameters': {}, 'attributes': {'module_not_derived': '00000000000000000000000000000001', 'src': 'sources/dumb_op_card.v:255.10-268.4'}, 'port_directions': {'\\\\1A': 'input', '\\\\1Y': 'output', '\\\\2A': 'input', '\\\\2Y': 'output', '\\\\3A': 'input', '\\\\3Y': 'output', '\\\\4A': 'input', '\\\\4Y': 'output', '\\\\5A': 'input', '\\\\6A': 'input', 'GND': 'input', 'VCC': 'input'}, 'connections': {'\\\\1A': [10], '\\\\1Y': [38], '\\\\2A': [11], '\\\\2Y': [39], '\\\\3A': [12], '\\\\3Y': [40], '\\\\4A': [13], '\\\\4Y': [41], '\\\\5A': ['0'], '\\\\6A': ['0'], 'GND': ['0'], 'VCC': ['1']}}\n",
      "\\74161 {'hide_name': 0, 'type': '\\\\74161', 'parameters': {}, 'attributes': {'module_not_derived': '00000000000000000000000000000001', 'src': 'sources/dumb_op_card.v:204.11-221.4'}, 'port_directions': {'A': 'input', 'B': 'input', 'C': 'input', 'CLK': 'input', 'D': 'input', 'ENP': 'input', 'ENT': 'input', 'GND': 'input', 'QA': 'output', 'QB': 'output', 'QC': 'output', 'QD': 'output', 'RCO': 'output', 'VCC': 'input', '~CLR': 'input', '~LD': 'input'}, 'connections': {'A': [6], 'B': [7], 'C': [8], 'CLK': [2], 'D': [9], 'ENP': [4], 'ENT': [5], 'GND': ['0'], 'QA': [11], 'QB': [12], 'QC': [13], 'QD': [14], 'RCO': [15], 'VCC': ['1'], '~CLR': [3], '~LD': [10]}}\n"
     ]
    }
   ],
   "source": [
    "def elaborate(top):\n",
    "    cells = top['cells']\n",
    "    for key in cells.keys():\n",
    "        cell = cells[key]\n",
    "        type = cell['type']\n",
    "\n",
    "        # see if the module is a 74-series chip. If we did, stop (we don't care what's inside the chip/how it's modeled)\n",
    "        if type.startswith('\\\\74'):\n",
    "            print(type, cell)\n",
    "\n",
    "        # Otherwise, we need to see if there are 74-series chips inside the module\n",
    "        else:\n",
    "            mod = modules[type]\n",
    "            if 'cells' in mod.keys():\n",
    "                elaborate(modules[type])\n",
    "\n",
    "with open('../out.json') as fp:\n",
    "    js = json.load(fp)\n",
    "\n",
    "modules = js['modules']\n",
    "elaborate(modules['dumb_op_card'])"
   ]
  }
 ],
 "metadata": {
  "kernelspec": {
   "display_name": "Python 3",
   "language": "python",
   "name": "python3"
  },
  "language_info": {
   "codemirror_mode": {
    "name": "ipython",
    "version": 3
   },
   "file_extension": ".py",
   "mimetype": "text/x-python",
   "name": "python",
   "nbconvert_exporter": "python",
   "pygments_lexer": "ipython3",
   "version": "3.10.12"
  }
 },
 "nbformat": 4,
 "nbformat_minor": 2
}
