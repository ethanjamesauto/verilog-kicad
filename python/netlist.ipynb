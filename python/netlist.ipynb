{
 "cells": [
  {
   "cell_type": "markdown",
   "metadata": {},
   "source": [
    "## Parse Yosys JSON netlist"
   ]
  },
  {
   "cell_type": "code",
   "execution_count": 93,
   "metadata": {},
   "outputs": [],
   "source": [
    "import json"
   ]
  },
  {
   "cell_type": "code",
   "execution_count": 94,
   "metadata": {},
   "outputs": [],
   "source": [
    "def elaborate(top):\n",
    "    cells = top['cells']\n",
    "    for key in cells.keys():\n",
    "        cell = cells[key]\n",
    "        type = cell['type']\n",
    "\n",
    "        # see if the module is a 74-series chip. If we did, stop (we don't care what's inside the chip/how it's modeled)\n",
    "        if type.startswith('\\\\74'):\n",
    "            print(type, cell)\n",
    "\n",
    "        # Otherwise, we need to see if there are 74-series chips inside the module\n",
    "        else:\n",
    "            mod = modules[type]\n",
    "            if 'cells' in mod.keys():\n",
    "                elaborate(modules[type])"
   ]
  },
  {
   "cell_type": "code",
   "execution_count": 95,
   "metadata": {},
   "outputs": [
    {
     "name": "stdout",
     "output_type": "stream",
     "text": [
      "{'clk': {'direction': 'input', 'bits': [2]}, '~rst': {'direction': 'input', 'bits': [3]}, '~int': {'direction': 'input', 'bits': [4]}, 'VCC_5V': {'direction': 'input', 'bits': [5]}, 'GND': {'direction': 'input', 'bits': [6]}, 'VCC_3V3': {'direction': 'input', 'bits': [7]}, '~we': {'direction': 'input', 'bits': [8]}, '~oe': {'direction': 'input', 'bits': [9]}, 'addr': {'direction': 'input', 'bits': [10, 11, 12, 13, 14, 15, 16, 17, 18, 19, 20, 21, 22, 23, 24, 25]}, 'aux-bus': {'direction': 'input', 'bits': [26, 27, 28, 29, 30, 31, 32, 33]}, 'data': {'direction': 'output', 'bits': [34, 35, 36, 37, 34, 35, 36, 37]}}\n",
      "\\7404\t{'\\\\1A': [10], '\\\\1Y': [38], '\\\\2A': [11], '\\\\2Y': [39], '\\\\3A': [12], '\\\\3Y': [40], '\\\\4A': [13], '\\\\4Y': [41], '\\\\5A': ['0'], '\\\\6A': ['0'], 'GND': ['0'], 'VCC': ['1']}\n",
      "\\74161\t{'A': [38], 'B': [39], 'C': [40], 'CLK': [2], 'D': [41], 'ENP': ['1'], 'ENT': ['1'], 'GND': ['0'], 'QA': [34], 'QB': [35], 'QC': [36], 'QD': [37], 'RCO': [42], 'VCC': ['1'], '~CLR': [3], '~LD': [8]}\n"
     ]
    }
   ],
   "source": [
    "with open('../out.json') as fp:\n",
    "    js = json.load(fp)\n",
    "\n",
    "modules = js['modules']\n",
    "\n",
    "top = modules['dumb_op_card']\n",
    "\n",
    "# The card IO wires\n",
    "print(top['ports'])\n",
    "\n",
    "# THe card chips\n",
    "for c in top['cells'].keys():\n",
    "    print(top['cells'][c]['type'], top['cells'][c]['connections'], sep='\\t')\n"
   ]
  }
 ],
 "metadata": {
  "kernelspec": {
   "display_name": "Python 3",
   "language": "python",
   "name": "python3"
  },
  "language_info": {
   "codemirror_mode": {
    "name": "ipython",
    "version": 3
   },
   "file_extension": ".py",
   "mimetype": "text/x-python",
   "name": "python",
   "nbconvert_exporter": "python",
   "pygments_lexer": "ipython3",
   "version": "3.10.12"
  }
 },
 "nbformat": 4,
 "nbformat_minor": 2
}
